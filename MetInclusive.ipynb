{
 "cells": [
  {
   "cell_type": "markdown",
   "id": "4fbf82b3-602f-434e-b278-7210c26c5cee",
   "metadata": {},
   "source": [
    "# Is the Met becoming more Gender-inclusive?\n",
    "\n",
    "Simona Sivkoff-Livneh\n",
    "\n",
    "2022-12-21\n",
    "\n",
    "https://public.paws.wmcloud.org/User:Kiki2976/MetInclusive.ipynb"
   ]
  },
  {
   "cell_type": "markdown",
   "id": "604b01a3-f593-47f0-82d8-dddf69aac9bd",
   "metadata": {},
   "source": [
    "## Overview\n",
    "\n",
    "In this project, I explore themes of inclusion and representation in culture, as reflected in the collections and\n",
    "acquisitions of the Metropolitan Museum of Art. I do this by looking at the gender of the artists whose works are currently represented in the holdings of various museums, using data from Wikidata. By segmenting this data by\n",
    "acquisition date, I investigate whether there is a shift to greater equity of representation.\n",
    "\n",
    "## Implementation details\n",
    "\n",
    "My data source for this analysis is [Wikidata](https://www.wikidata.org/). Wikidata is a knowledge database that contains statements about entities in the world. Wikidata has extensive data about various works of art, and makes it possible to programmatically obtain information about the creator of a work of art, including their sex and country of origin.\n",
    "\n",
    "For example, [Manneporte near Étretat (Q3820962)](https://www.wikidata.org/wiki/Q3820962) has the property of ‘creator’, with the value of [Claude Monet (Q296)](https://www.wikidata.org/wiki/Q296), which has the properties sex (male) and citizenship (French).\n",
    "\n",
    "To query Wikidata, I am using the [Wikidata Query Service](https://query.wikidata.org/) (WQDS). Wikidata Query Service allows people to query Wikidata using a query language called SPARQL. To access WQDS and run SPARQL queries from Python, I am using [PAWS](https://wikitech.wikimedia.org/wiki/PAWS). PAWS allows people to write and share code that accesses Wikidata via interactive notebooks. PAWS provides an interactive Python environment with pre-loaded libraries for accessing Wikidata APIs and generating visualizations."
   ]
  },
  {
   "cell_type": "code",
   "execution_count": 34,
   "id": "7e8bcc5d-31f2-40c0-a1b0-d81b56dcdd88",
   "metadata": {
    "tags": []
   },
   "outputs": [],
   "source": [
    "import urllib.parse\n",
    "\n",
    "from IPython.display import IFrame\n",
    "\n",
    "\n",
    "def query_wikidata(query='', width=800, height=500):\n",
    "  \"\"\"Display the results of a Wikidata query as an iframe.\"\"\"\n",
    "  quoted_query = urllib.parse.quote(query)\n",
    "  return IFrame('https://query.wikidata.org/embed.html#' + quoted_query,\n",
    "                width=width, height=height)"
   ]
  },
  {
   "cell_type": "code",
   "execution_count": 36,
   "id": "dd1d6cb0-0458-4260-affe-8ffc45c78d4c",
   "metadata": {},
   "outputs": [],
   "source": [
    "query = '''\n",
    "  #defaultView:BarChart\n",
    "  SELECT ?decade (COUNT(?gender) AS ?acquisitions) ?genderLabel WHERE {\n",
    "    # Items in the collection (P195) of the Met (Q160236).\n",
    "    ?item p:P195 ?node .\n",
    "    ?node ps:P195 wd:Q160236 .\n",
    "    ?node pq:P580 ?dateAcquired .\n",
    "      \n",
    "    # Extract the year from the acquisition date, cast to string,\n",
    "    # and convert to decade by truncating the ones digit and\n",
    "    # replacing it with a zero.\n",
    "    BIND(YEAR(?dateAcquired) as ?yearAcquired) .\n",
    "    BIND(CONCAT(SUBSTR(STR(?yearAcquired), 0, 4), \"0\") as ?decade) .\n",
    "\n",
    "    ?item wdt:P170 ?artist .\n",
    "    ?artist wdt:P21 ?gender . \n",
    "    VALUES ?gender {\n",
    "      wd:Q6581097  # male\n",
    "      wd:Q6581072  # female\n",
    "      wd:Q48270    # non-binary\n",
    "      wd:Q1097630  # intersex\n",
    "    }\n",
    "    SERVICE wikibase:label { bd:serviceParam wikibase:language \"[AUTO_LANGUAGE],en\". }\n",
    "  }\n",
    "  GROUP BY ?decade ?genderLabel\n",
    "'''"
   ]
  },
  {
   "cell_type": "code",
   "execution_count": 35,
   "id": "a2542d67-8289-4e0c-9503-cd773354c078",
   "metadata": {},
   "outputs": [
    {
     "data": {
      "text/html": [
       "\n",
       "        <iframe\n",
       "            width=\"1000\"\n",
       "            height=\"1000\"\n",
       "            src=\"https://query.wikidata.org/embed.html#%0A%20%20%23defaultView%3ABarChart%0A%20%20SELECT%20%3Fdecade%20%28COUNT%28%3Fgender%29%20AS%20%3Facquisitions%29%20%3FgenderLabel%20WHERE%20%7B%0A%20%20%20%20%3Fitem%20p%3AP195%20%3Fnode%20.%0A%20%20%20%20%3Fnode%20ps%3AP195%20wd%3AQ160236%20.%0A%20%20%20%20%3Fnode%20pq%3AP580%20%3FdateAcquired%20.%0A%20%20%20%20BIND%28YEAR%28%3FdateAcquired%29%20as%20%3FyearAcquired%29%20.%0A%20%20%20%20BIND%28CONCAT%28SUBSTR%28STR%28%3FyearAcquired%29%2C%200%2C%204%29%2C%20%220%22%29%20as%20%3Fdecade%29%20.%0A%20%20%20%20%3Fitem%20wdt%3AP170%20%3Fartist%20.%0A%20%20%20%20%3Fartist%20wdt%3AP21%20%3Fgender%20.%20%0A%20%20%20%20VALUES%20%3Fgender%20%7B%0A%20%20%20%20%20%20wd%3AQ6581097%20%20%23%20male%0A%20%20%20%20%20%20wd%3AQ6581072%20%20%23%20female%0A%20%20%20%20%20%20wd%3AQ48270%20%20%20%20%23%20non-binary%0A%20%20%20%20%20%20wd%3AQ1097630%20%20%23%20intersex%0A%20%20%20%20%7D%0A%20%20%20%20SERVICE%20wikibase%3Alabel%20%7B%20bd%3AserviceParam%20wikibase%3Alanguage%20%22%5BAUTO_LANGUAGE%5D%2Cen%22.%20%7D%0A%20%20%7D%0A%20%20GROUP%20BY%20%3Fdecade%20%3FgenderLabel%0A\"\n",
       "            frameborder=\"0\"\n",
       "            allowfullscreen\n",
       "            \n",
       "        ></iframe>\n",
       "        "
      ],
      "text/plain": [
       "<IPython.lib.display.IFrame at 0x7f13ae013010>"
      ]
     },
     "execution_count": 35,
     "metadata": {},
     "output_type": "execute_result"
    }
   ],
   "source": [
    "query_wikidata(width=1000, height=1000, query=query)"
   ]
  },
  {
   "cell_type": "markdown",
   "id": "4c290eaa-c1e7-4301-99ef-35e16c1045c9",
   "metadata": {},
   "source": [
    "Next, I would like to calculate the percentage of acquired works that were created by non-male artists. To do this, I run the query again, this time consuming JSON output, which I process using Python code."
   ]
  },
  {
   "cell_type": "code",
   "execution_count": 31,
   "id": "b5d96b79-3bb1-47c7-b274-54eee24ca0fa",
   "metadata": {},
   "outputs": [],
   "source": [
    "import requests\n",
    "\n",
    "BASE_URL = 'https://query.wikidata.org/sparql'\n",
    "\n",
    "r = requests.get(BASE_URL, params = {'format': 'json', 'query': query})\n",
    "data = r.json()\n",
    "\n",
    "male_acquisitions = {}\n",
    "non_male_acquisitions = {}\n",
    "\n",
    "for result in data['results']['bindings']:\n",
    "    decade = int(result['decade']['value'])\n",
    "    gender = result['genderLabel']['value']\n",
    "    acquisitions = int(result['acquisitions']['value'])\n",
    "    if gender == 'male':\n",
    "        male_acquisitions[decade] = acquisitions\n",
    "    else:\n",
    "        non_male_acquisitions[decade] = non_male_acquisitions.get(decade, 0) + acquisitions\n",
    "\n",
    "percent_non_male = {}\n",
    "for decade in sorted(male_acquisitions):\n",
    "    percent_non_male[decade] = 100 * (non_male_acquisitions.get(decade, 0) / male_acquisitions[decade])"
   ]
  },
  {
   "cell_type": "code",
   "execution_count": 32,
   "id": "1ee037f5-0314-4d0d-9817-8edf522ff600",
   "metadata": {},
   "outputs": [
    {
     "data": {
      "text/html": [
       "\n",
       " <table>\n",
       "  <tr> <th>Decade</th> <th>% Acquisitions from non-male creators</th> </tr>\n",
       "<tr> <td> 1870s </td> <td> 0.94% </td> </tr><tr> <td> 1880s </td> <td> 7.46% </td> </tr><tr> <td> 1890s </td> <td> 0.00% </td> </tr><tr> <td> 1900s </td> <td> 3.01% </td> </tr><tr> <td> 1910s </td> <td> 3.42% </td> </tr><tr> <td> 1920s </td> <td> 3.98% </td> </tr><tr> <td> 1930s </td> <td> 4.65% </td> </tr><tr> <td> 1940s </td> <td> 6.79% </td> </tr><tr> <td> 1950s </td> <td> 6.52% </td> </tr><tr> <td> 1960s </td> <td> 6.39% </td> </tr><tr> <td> 1970s </td> <td> 3.33% </td> </tr><tr> <td> 1980s </td> <td> 13.62% </td> </tr><tr> <td> 1990s </td> <td> 13.54% </td> </tr><tr> <td> 2000s </td> <td> 9.85% </td> </tr><tr> <td> 2010s </td> <td> 6.79% </td> </tr></table>"
      ],
      "text/plain": [
       "<IPython.core.display.HTML object>"
      ]
     },
     "metadata": {},
     "output_type": "display_data"
    }
   ],
   "source": [
    "from IPython.display import HTML, display\n",
    "    \n",
    "html = '''\n",
    " <table>\n",
    "  <tr> <th>Decade</th> <th>% Acquisitions from non-male creators</th> </tr>\n",
    "'''\n",
    "for decade in sorted(percent_non_male):\n",
    "    html += ('<tr> <td> %ss </td> <td> %.2f%% </td> </tr>' % (decade, percent_non_male[decade]))\n",
    "\n",
    "html += '</table>'\n",
    "\n",
    "display(HTML(html))\n"
   ]
  },
  {
   "cell_type": "markdown",
   "id": "c87c39ba-135f-4a61-bd22-a24f5c060304",
   "metadata": {},
   "source": [
    "From this data, we can see that the percentage of newly-acquired works that were created by non-male artists rose through most the twentieth century, peaking in the 1980s and 1990s, but dropped in the first two decades of the current century."
   ]
  }
 ],
 "metadata": {
  "kernelspec": {
   "display_name": "Python 3 (ipykernel)",
   "language": "python",
   "name": "python3"
  },
  "language_info": {
   "codemirror_mode": {
    "name": "ipython",
    "version": 3
   },
   "file_extension": ".py",
   "mimetype": "text/x-python",
   "name": "python",
   "nbconvert_exporter": "python",
   "pygments_lexer": "ipython3",
   "version": "3.10.6"
  }
 },
 "nbformat": 4,
 "nbformat_minor": 5
}
